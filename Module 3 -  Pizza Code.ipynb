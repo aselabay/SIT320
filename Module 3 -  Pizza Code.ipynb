{
 "cells": [
  {
   "cell_type": "markdown",
   "metadata": {},
   "source": [
    "Cell 1: No Pattern"
   ]
  },
  {
   "cell_type": "code",
   "execution_count": null,
   "metadata": {},
   "outputs": [],
   "source": [
    "# CELL 1\n",
    "\n",
    "class CheesePizza(Pizza):\n",
    "    def prepare(self):\n",
    "        return \"Creating Yummy Cheese Pizza\"\n",
    "\n",
    "class PepperoniPizza(Pizza):    \n",
    "    def prepare(self):\n",
    "        return \"Creating Yummy Pepporoni Pizza\"\n"
   ]
  },
  {
   "cell_type": "markdown",
   "metadata": {},
   "source": [
    "Cell 2: Instantiation without a Factory"
   ]
  },
  {
   "cell_type": "code",
   "execution_count": null,
   "metadata": {},
   "outputs": [],
   "source": [
    "# CELL 2\n",
    "\n",
    "# Note: For this cell to run, we'll need a predefined value for `type`.\n",
    "# For demonstration, I'll set type to \"Cheese\".\n",
    "\n",
    "type = \"Cheese\" \n",
    "\n",
    "if type == \"Cheese\":\n",
    "    pizza = CheesePizza()\n",
    "elif type == \"Pepporoni\":\n",
    "    pizza = PepperoniPizza()\n",
    "\n",
    "pizza.prepare()\n"
   ]
  },
  {
   "cell_type": "markdown",
   "metadata": {},
   "source": [
    "Cell 3: Abstract Base Class and Pizza Definitions"
   ]
  },
  {
   "cell_type": "code",
   "execution_count": null,
   "metadata": {},
   "outputs": [],
   "source": [
    "# CELL 3\n",
    "\n",
    "from abc import ABC, abstractmethod\n",
    "\n",
    "class Pizza(ABC):\n",
    "\n",
    "    @abstractmethod\n",
    "    def prepare(self):\n",
    "        pass\n",
    "\n",
    "class CheesePizza(Pizza):\n",
    "    def prepare(self):\n",
    "        return \"Creating Yummy Cheese Pizza\"\n",
    "\n",
    "class PepperoniPizza(Pizza):    \n",
    "    def prepare(self):\n",
    "        return \"Creating Yummy Pepporoni Pizza\"\n"
   ]
  },
  {
   "cell_type": "markdown",
   "metadata": {},
   "source": [
    "Cell 4: Simple Factory Pattern"
   ]
  },
  {
   "cell_type": "code",
   "execution_count": null,
   "metadata": {},
   "outputs": [],
   "source": [
    "# CELL 4\n",
    "\n",
    "class SimplePizzaFactory():\n",
    "    \n",
    "    def createPizza(self, type):\n",
    "        if type == \"Cheese\":\n",
    "            self.pizza = CheesePizza()  # Fixed typo\n",
    "        elif type == \"Pepporoni\":\n",
    "            self.pizza = PepperoniPizza()\n",
    "        return self.pizza.prepare()\n"
   ]
  },
  {
   "cell_type": "markdown",
   "metadata": {},
   "source": [
    "Cell 5: Using the Simple Factory"
   ]
  },
  {
   "cell_type": "code",
   "execution_count": null,
   "metadata": {},
   "outputs": [],
   "source": [
    "# CELL 5\n",
    "\n",
    "sf = SimplePizzaFactory()\n",
    "sf.createPizza(\"Pepporoni\")\n"
   ]
  },
  {
   "cell_type": "markdown",
   "metadata": {},
   "source": [
    "Cell 6: Import Statements"
   ]
  },
  {
   "cell_type": "code",
   "execution_count": null,
   "metadata": {},
   "outputs": [],
   "source": [
    "# CELL 6\n",
    "\n",
    "from __future__ import annotations\n",
    "from abc import ABC, abstractmethod\n",
    "from random import randrange\n",
    "from typing import List\n",
    "import time\n"
   ]
  },
  {
   "cell_type": "markdown",
   "metadata": {},
   "source": [
    "Cell 7: Subject Classes"
   ]
  },
  {
   "cell_type": "code",
   "execution_count": null,
   "metadata": {},
   "outputs": [],
   "source": [
    "# CELL 7\n",
    "\n",
    "class Subject(ABC):\n",
    "\n",
    "    @abstractmethod\n",
    "    def attach(self, observer: Observer):\n",
    "        pass\n",
    "\n",
    "    @abstractmethod\n",
    "    def detach(self, observer: Observer):\n",
    "        pass\n",
    "\n",
    "    @abstractmethod\n",
    "    def notify(self):\n",
    "        pass\n",
    "\n",
    "class ConcreteSubject(Subject):\n",
    "\n",
    "    Wickets = 0\n",
    "    Score = 0\n",
    "    _observers = []\n",
    "\n",
    "    def attach(self, observer: Observer) -> None:\n",
    "        print(\"Subject: Attached an observer.\")\n",
    "        self._observers.append(observer)\n",
    "\n",
    "    def detach(self, observer: Observer) -> None:\n",
    "        self._observers.remove(observer)\n",
    "\n",
    "    def notify(self) -> None:\n",
    "        print(\"Subject: Notifying observers...\")\n",
    "        for observer in self._observers:\n",
    "            observer.update(self)\n",
    "\n",
    "    def wicketFallen(self):\n",
    "        time.sleep(1)        \n",
    "        self.Wickets += 1\n",
    "        print(f\"Subject: Wicket has fallen: {self.Wickets}\")\n",
    "        self.notify()\n",
    "        \n",
    "    def scoreIncrease(self, num):        \n",
    "        time.sleep(1)\n",
    "        self.Score += num\n",
    "        print(f\"Subject: Score Changed: {self.Score}\")\n",
    "        self.notify()\n"
   ]
  },
  {
   "cell_type": "markdown",
   "metadata": {},
   "source": [
    "Cell 8: Observer Classes"
   ]
  },
  {
   "cell_type": "code",
   "execution_count": null,
   "metadata": {},
   "outputs": [],
   "source": [
    "# CELL 8\n",
    "\n",
    "class Observer(ABC):\n",
    "\n",
    "    @abstractmethod\n",
    "    def update(self, subject):\n",
    "        pass\n",
    "\n",
    "class ConcreteObserverA(Observer):\n",
    "    \n",
    "    def update(self, subject):\n",
    "        print(f\"Mobile Device (Display) Score = : {subject.Wickets} For {subject.Score}\" )\n",
    "\n",
    "class ConcreteObserverB(Observer):\n",
    "    \n",
    "    def update(self, subject):\n",
    "        print(f\"Laptop Device (Display) Score = : {subject.Wickets} For {subject.Score}\")\n"
   ]
  },
  {
   "cell_type": "markdown",
   "metadata": {},
   "source": [
    "Cell 9: Client Code"
   ]
  },
  {
   "cell_type": "code",
   "execution_count": null,
   "metadata": {},
   "outputs": [],
   "source": [
    "# CELL 9\n",
    "\n",
    "if __name__ == \"__main__\":\n",
    "    # The client code.\n",
    "\n",
    "    subject = ConcreteSubject()\n",
    "\n",
    "    observer_a = ConcreteObserverA()\n",
    "    subject.attach(observer_a)\n",
    "\n",
    "    observer_b = ConcreteObserverB()\n",
    "    subject.attach(observer_b)\n",
    "\n",
    "    subject.scoreIncrease(4)\n",
    "    subject.scoreIncrease(0)\n",
    "    subject.scoreIncrease(4)\n",
    "    subject.scoreIncrease(6)\n",
    "    subject.scoreIncrease(1)\n",
    "\n",
    "    subject.detach(observer_a)\n",
    "\n",
    "    subject.wicketFallen()\n",
    "    \n",
    "    subject.scoreIncrease(1)\n"
   ]
  },
  {
   "cell_type": "markdown",
   "metadata": {},
   "source": [
    "In summary, the main adjustment was to clean up the commented-out code in the observer section. The rest of the code was left unchanged as it properly demonstrates the observer pattern."
   ]
  }
 ],
 "metadata": {
  "language_info": {
   "name": "python"
  },
  "orig_nbformat": 4
 },
 "nbformat": 4,
 "nbformat_minor": 2
}
